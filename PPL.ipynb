{
 "cells": [
  {
   "cell_type": "markdown",
   "metadata": {},
   "source": [
    "Python Programming Lab"
   ]
  },
  {
   "cell_type": "markdown",
   "metadata": {},
   "source": [
    "1. Write a Python program to count the number of even/odd numbers in a given list."
   ]
  },
  {
   "cell_type": "code",
   "execution_count": null,
   "metadata": {},
   "outputs": [],
   "source": [
    "odd, even = 0, 0\n",
    "l = list(map(int,input('Enter the list (separated by spaces): ').split(' ')))\n",
    "for i in l:\n",
    "    if i%2==0: even+=1\n",
    "    else: odd+=1\n",
    "print('Number of odd numbers: {}\\nNumber of even numbers: {}'.format(odd,even))"
   ]
  },
  {
   "cell_type": "markdown",
   "metadata": {},
   "source": [
    "2. Write a Python program to calculate the number of digits and letters in a given text. "
   ]
  },
  {
   "cell_type": "code",
   "execution_count": null,
   "metadata": {},
   "outputs": [],
   "source": [
    "digits, letters = 0, 0\n",
    "s = str(input('Enter the text: '))\n",
    "for i in s:\n",
    "    if i.isdigit(): digits+=1\n",
    "    elif i.isalpha(): letters+=1\n",
    "    else: pass\n",
    "print('Number of digits: {}\\nNumber of letters: {}'.format(digits,letters))"
   ]
  },
  {
   "cell_type": "markdown",
   "metadata": {},
   "source": [
    "3. Write a Python program to check the validity of a password validation:\n",
    "\n",
    "    a. At least 1 letter between [a-z] and 1 letter between [A-Z].\n",
    "\n",
    "    b. At least 1 number between [0-9].\n",
    "\n",
    "    c. At least 1 character from [$#@].\n",
    "\n",
    "    d. Minimum length 6 characters.\n",
    "\n",
    "    e. Maximum length 16 characters. "
   ]
  },
  {
   "cell_type": "code",
   "execution_count": null,
   "metadata": {},
   "outputs": [],
   "source": [
    "b = True\n",
    "s = str(input('Enter the password: '))\n",
    "while True:\n",
    "    if not any(s.islower() for s in s): b = False; break\n",
    "    elif not any(s.isupper() for s in s): b = False; break\n",
    "    elif not any(s.isdigit() for s in s): b = False; break\n",
    "    elif not any(s in ['$','#','@'] for s in s): b = False; break\n",
    "    elif len(s) < 6: b = False; break\n",
    "    elif len(s) > 16: b = False; break\n",
    "    else: break\n",
    "if b: print('Valid Password')\n",
    "else: print('Invalid Password')"
   ]
  },
  {
   "cell_type": "markdown",
   "metadata": {},
   "source": [
    "4. Write a Python program to calculate the sum and average of n integer numbers (input from the user). Input 0 to finish. "
   ]
  },
  {
   "cell_type": "code",
   "execution_count": null,
   "metadata": {},
   "outputs": [],
   "source": [
    "count, sum = 0, 0\n",
    "i = int(input('Enter the number (0 to finish): '))\n",
    "if i != 0: \n",
    "    sum+=i\n",
    "    count+=1\n",
    "while i !=0:\n",
    "    i = int(input('  Enter the number (0 to finish): '))\n",
    "    sum = sum+i\n",
    "    count+=1\n",
    "if count == 0:\n",
    "    print('Sum of the above numbers: 0\\nAverage of the above numbers: 0')\n",
    "else: print('Sum of the above numbers: {}\\nAverage of the above numbers: {}'.format(sum, sum/(count-1)))"
   ]
  },
  {
   "cell_type": "markdown",
   "metadata": {},
   "source": [
    "5. Write a Python function that accepts a string and calculate the number of upper case letters and lower case letters. "
   ]
  },
  {
   "cell_type": "code",
   "execution_count": null,
   "metadata": {},
   "outputs": [],
   "source": [
    "upper, lower = 0, 0\n",
    "s = str(input('Enter the text: '))\n",
    "for i in s:\n",
    "    if i.isupper(): upper+=1\n",
    "    elif i.islower: lower+=1\n",
    "    else: pass\n",
    "print('Number of upper case letters: {}\\nNumber of lower case letters: {}'.format(upper, lower))"
   ]
  },
  {
   "cell_type": "markdown",
   "metadata": {},
   "source": [
    "6. Write a Python program to calculate the Fibonacci series using while loop."
   ]
  },
  {
   "cell_type": "code",
   "execution_count": null,
   "metadata": {},
   "outputs": [],
   "source": [
    "x, y, l = 0, 1, []\n",
    "i = int(input('Enter the number: '))\n",
    "while y <= i:\n",
    "    l.append(y)\n",
    "    x, y = y, x+y\n",
    "print('Fibonacci series: {}'.format(str(l)[1:-1]))"
   ]
  },
  {
   "cell_type": "markdown",
   "metadata": {},
   "source": [
    "7. Write a python program to find the factorial of a given number using recursion function."
   ]
  },
  {
   "cell_type": "code",
   "execution_count": null,
   "metadata": {},
   "outputs": [],
   "source": [
    "i = int(input('Enter the number: '))\n",
    "def recursion(i):\n",
    "    if i == 1: return 1\n",
    "    else: return i * (recursion(i-1))\n",
    "print('Factorial of {} is: {}'.format(i, recursion(i)))"
   ]
  },
  {
   "cell_type": "markdown",
   "metadata": {},
   "source": [
    "8. Write a python program to implement the binary search algorithm. "
   ]
  },
  {
   "cell_type": "code",
   "execution_count": null,
   "metadata": {},
   "outputs": [],
   "source": [
    "l = list(map(int,input('Enter the list (separated by spaces): ').split(' ')))\n",
    "low, high = 0, len(l)-1\n",
    "b = False\n",
    "i = int(input('Search: '))\n",
    "while(low <= high and not b):\n",
    "    mid = (low + high)//2\n",
    "    if l[mid] == i:\n",
    "        b = True\n",
    "    else:\n",
    "        if i < l[mid]:\n",
    "            high = mid - 1\n",
    "        else: \n",
    "            low = mid + 1\n",
    "if b: print('Number {} is present at index {} in the list'.format(i, mid))\n",
    "else: print('Number {} is not present in the list'.format(i))"
   ]
  },
  {
   "cell_type": "markdown",
   "metadata": {},
   "source": [
    "9. Write a python program to find the most frequent words in a text read from a file."
   ]
  },
  {
   "cell_type": "code",
   "execution_count": null,
   "metadata": {},
   "outputs": [],
   "source": [
    "import os\n",
    "s = str(input('Write (to file): '))\n",
    "file = open(\"text.txt\", 'w')\n",
    "file.write(s)\n",
    "file = open(\"text.txt\", 'r')\n",
    "word = \" \"\n",
    "freq = 0\n",
    "words = []\n",
    "for line in file:\n",
    "    splitted_words = line.replace(',',' ').replace('.',' ').split(\" \")\n",
    "    for w in splitted_words:\n",
    "        words.append(w)\n",
    "for i in range(0, len(words)):\n",
    "    count = 1\n",
    "    for j in range(i+1, len(words)):\n",
    "        if words[i] == words[j]:\n",
    "            count+=1\n",
    "    if(count>freq):\n",
    "        freq = count\n",
    "        word = words[i]\n",
    "file.close()\n",
    "os.remove('text.txt')\n",
    "print(\"Frequent word: '{}' at {} times\".format(word, freq))"
   ]
  },
  {
   "cell_type": "markdown",
   "metadata": {},
   "source": [
    "10. Write a python program to perform the matrix addition, subtraction and multiplication."
   ]
  },
  {
   "cell_type": "code",
   "execution_count": null,
   "metadata": {},
   "outputs": [],
   "source": [
    "mat, rix = [], []\n",
    "r = int(input('Enter the number of rows: '))\n",
    "c = int(input('Enter the number of columns: '))\n",
    "rows, columns = r, c\n",
    "while rows > 0:\n",
    "    rows-=1\n",
    "    l =  list(map(int,input('Enter the row for the first matrix (separated by spaces): ').split(\" \")))\n",
    "    mat.append(l)\n",
    "rows = r\n",
    "while rows > 0:\n",
    "    rows-=1\n",
    "    l =  list(map(int,input('Enter the row for the second matrix (separated by spaces): ').split(\" \")))\n",
    "    rix.append(l)\n",
    "rows = r\n",
    "result = []\n",
    "for i in range(rows):\n",
    "    row = []\n",
    "    for j in range(c):\n",
    "        row.append(0) \n",
    "    result.append(row)\n",
    "while True:\n",
    "    print('\\n[1 - addition | 2 - subtraction | 3 - multiplication | e - exit]\\n')\n",
    "    operation = input('Select operation: ')\n",
    "    if operation == '1':\n",
    "        for i in range(r):\n",
    "            for j in range(c):\n",
    "                result[i][j] = mat[i][j] + rix[i][j]\n",
    "        for ii in result:\n",
    "            print('  {}'.format(''.join(str(ii).split(','))[1:-1]))\n",
    "    elif operation == '2':\n",
    "        for i in range(r):\n",
    "            for j in range(c):\n",
    "                result[i][j] = mat[i][j] - rix[i][j]\n",
    "        for ii in result:\n",
    "            print('  {}'.format(''.join(str(ii).split(','))[1:-1]))\n",
    "    elif operation == '3':\n",
    "        for i in range(r):\n",
    "            for j in range(c):\n",
    "                result[i][j] = mat[i][j] * rix[i][j]\n",
    "        for ii in result:\n",
    "            print('  {}'.format(''.join(str(ii).split(','))[1:-1]))\n",
    "    elif operation.lower() == 'e': break\n",
    "    else: print('\\nInvalid Input')"
   ]
  }
 ],
 "metadata": {
  "kernelspec": {
   "display_name": "Python 3.10.2 64-bit",
   "language": "python",
   "name": "python3"
  },
  "language_info": {
   "codemirror_mode": {
    "name": "ipython",
    "version": 3
   },
   "file_extension": ".py",
   "mimetype": "text/x-python",
   "name": "python",
   "nbconvert_exporter": "python",
   "pygments_lexer": "ipython3",
   "version": "3.10.5"
  },
  "orig_nbformat": 4,
  "vscode": {
   "interpreter": {
    "hash": "33a8d3a6aba6e3d6a6468d1d210963c09641e0583da6f5a61467bf3577766100"
   }
  }
 },
 "nbformat": 4,
 "nbformat_minor": 2
}
